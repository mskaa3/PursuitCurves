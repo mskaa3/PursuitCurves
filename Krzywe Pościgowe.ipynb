{
 "cells": [
  {
   "cell_type": "markdown",
   "id": "93ac9f8a",
   "metadata": {},
   "source": [
    "# Krzywe Pościgowe"
   ]
  },
  {
   "cell_type": "markdown",
   "id": "e4c91578",
   "metadata": {},
   "source": [
    "## Spis treści\n",
    "\n",
    "- 1 [Wstęp](#1)\n",
    "    - 1.1 [Historia krzywych pogoni w pigułce](#1.1)\n",
    "    - 1.2 [Motywacje i cel](#1.2)"
   ]
  },
  {
   "cell_type": "markdown",
   "id": "f8fc03f9",
   "metadata": {},
   "source": [
    "## Wstęp <a class=\"anchor\" id=\"1\"></a>\n",
    "Na wstępie przyjrzyjmy się następującym zdarzeniom: pies goniący zająca, grupa osób próbująca dobiec do odjeżdżającego autobusu oraz myśliwiec ścigający wroga.\n",
    "\n",
    "*Co łączy przytoczone zjawiska?*\n",
    "\n",
    "W każdym z nich występują **„ścigający” oraz  „ścigani”** będący w ruchu i poruszający się po jakichś torach.\n",
    "\n",
    "*Zatem gdzie jest tutaj matematyka?*\n",
    "\n",
    "Okazuje się, że do opisu toru ruchu ścigających możemy zastosować narzędzie matematyczne nazywane **krzywymi pościgowymi**. Krzywa pogoni (zamiennie do krzywej pościgu) zawsze zmierza w kierunku ściganego, który porusza się po jakiejś krzywej.\n",
    "\n",
    "### Historia krzywych pogoni w pigułce <a class=\"anchor\" id=\"1.1\"></a>\n",
    "Mówiąc o krzywych pościgu nie można pominąć bogatej historii tego zjawiska.\n",
    "Swoje zaczątki ma ona już w  V w. p.n.e., kiedy to grecki uczony Zenon z Elei wprowadził *,,Paradoks Achillesa”*[1]. Mówi on o tym, że Achilles nigdy nie dogoni żółwia, który zaczął bieg od połowy dystansu, mimo że biegnie od niego 2 razy szybciej. Tak właśnie wprowadzony został główny problem jaki badają krzywe pościgowe, a mianowicie: ***czy ścigający dogoni ściganego?***\n",
    "\n",
    "Kolejną osobistością, która przyjrzała się temu tematowi był Leonardo da Vinci. Badał on problem psa goniącego człowieka, który biegnie po linii prostej. Krzywa po jakiej biegnie pies otrzymała nazwę „psiej krzywej pogoni”. Zasadniczo jednak nie nazywa się go twórcą krzywych pościgu, gdyż na ich skrupulatne wyjaśnienie musieliśmy poczekać do pojawienia się równań różniczkowych. [2]\n",
    "\n",
    "W taki sposób do XVIII w. n.e. nic się nie działo, aż tym zjawiskiem zajął się człowiek nazywany założycielem krzywych pogoni, a mianowicie francuz **Pierre Bouger**. W 1732 r. sformułował on pierwszy problem pościgowy (obejmujący statek piracki ścigający statek handlowy), używając do jego opisu Newtonowskiego rachunku różniczkowego[3]. Pierre-Louis Moreau de Maupertuis uogólnił problem pościgu w 1735 roku, tak aby ścigany mógł podążać ścieżkami innymi niż linie proste[4].\n",
    "\n",
    "Warto wspomnieć że używana przez nas nazwa *krzywe pościgowe (pursuit curves)* pierwszy raz była użyta przez George Boole'a w 1859 roku w dziele *“Treatise on differential equations”*. [5?]\n",
    "\n",
    "### Motywacje i cel <a class=\"anchor\" id=\"1.2\"></a>\n",
    "Historia tych krzywych jest ciekawa, niemniej jak sam ich temat. Motywacją do badania krzywych pościgowych jest fakt, że są one niezwykle przydatne w opisywaniu ruchu obiektów i dzięki nim możemy lepiej zrozumieć ich zachowanie, a także przewidywać ich przyszły ruch.\n",
    "\n",
    "Celami tego projektu są: **analiza zachowań goniących obiektów, dla różnych krzywych oraz różnej liczbie obiektów oraz zbadanie ich zastosowań w różnych dziedzinach**. Chcemy także przedstawić różne metody ich obliczania oraz omówić praktyczne zastosowania krzywych pościgowych w różnych sytuacjach.\n",
    "\n"
   ]
  },
  {
   "cell_type": "code",
   "execution_count": null,
   "id": "f79f8e2f",
   "metadata": {},
   "outputs": [],
   "source": [
    "\n",
    "\n"
   ]
  },
  {
   "cell_type": "code",
   "execution_count": 1,
   "id": "f7a8e30a",
   "metadata": {},
   "outputs": [],
   "source": [
    "# tak mozna wpisywać równania (zainstalowałam mathjax w cmd)"
   ]
  },
  {
   "cell_type": "markdown",
   "id": "8926ef76",
   "metadata": {},
   "source": [
    "$$\n",
    "\\frac{a+b}{c+d} \\\\ \n",
    "\\sqrt[3]{27} = 3\n",
    "$$"
   ]
  },
  {
   "cell_type": "markdown",
   "id": "0a095876",
   "metadata": {},
   "source": [
    "## Bibliografia <a class=\"anchor\" id=\"7\"></a>\n",
    "- [1] https://www.pap.pl/mediaroom/1001648%2Cwzrosl-ruch-na-drogach-krajowych-synteza-wynikow-generalnego-pomiaru-ruchu-202021\n",
    "- [2] T. Tsuboi, Traffic Flow Analysis and Management, opublikowano 05.02.2021, https://www.intechopen.com/chapters/75082\n",
    "- [3] https://www.gov.pl/web/gddkia/generalny-pomiar-ruchu-20202021"
   ]
  }
 ],
 "metadata": {
  "kernelspec": {
   "display_name": "Python 3 (ipykernel)",
   "language": "python",
   "name": "python3"
  },
  "language_info": {
   "codemirror_mode": {
    "name": "ipython",
    "version": 3
   },
   "file_extension": ".py",
   "mimetype": "text/x-python",
   "name": "python",
   "nbconvert_exporter": "python",
   "pygments_lexer": "ipython3",
   "version": "3.9.13"
  }
 },
 "nbformat": 4,
 "nbformat_minor": 5
}
